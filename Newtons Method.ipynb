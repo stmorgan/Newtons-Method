{
 "cells": [
  {
   "cell_type": "markdown",
   "metadata": {},
   "source": [
    "# Newton's Method\n",
    "\n",
    "For solving $f(x)=0$\n",
    "$$x_{n+1}=x_n - \\frac{f(x_n)}{f'(x_n)}$$\n",
    "\n",
    "For example, to solve $f(x)=(\\ln{3})3^x-3x^2 = -\\frac{1}{3}$.\n",
    "\n",
    "Then let $$g(x)=(\\ln{3})3^x-3x^2 + \\frac{1}{3}$$\n",
    "and we can solve $f(x)=-\\frac{1}{3}$ by solving $g(x)=0$\n",
    "\n",
    "Note that $$g'(x)=(\\ln{3})^23^x-6x$$\n",
    "\n",
    "Applying Newton's Method: \n",
    "\n",
    "$$x_{n+1}=x_n - \\frac{g(x_n)}{g'(x_n)}$$\n",
    "\n",
    "$$x_{n+1}=x_n - \\frac{(\\ln{3})3^x_n-3x^2 + \\frac{1}{3}}{(\\ln{3})^23^x_n-6x_n}$$\n",
    "\n",
    "Iterating converges on the exact value. See the following Python code."
   ]
  },
  {
   "cell_type": "code",
   "execution_count": 12,
   "metadata": {},
   "outputs": [
    {
     "name": "stdout",
     "output_type": "stream",
     "text": [
      "1\n",
      "1.264451327110181\n",
      "1.2439794170052045\n",
      "1.2439241008341428\n",
      "1.2439241003861368\n",
      "1.2439241003861368\n"
     ]
    }
   ],
   "source": [
    "import math\n",
    "\n",
    "def g(x): # Function definition\n",
    "    return math.log(3.) * 3.**x - 3.*(x**2.) + 1./3.\n",
    "\n",
    "def gp(x): # Derivative of function\n",
    "    return ((math.log(3.))**2.) * 3.**x - 6*x\n",
    "\n",
    "def nf_g(x): # Newton's Formula\n",
    "    return x - g(x)/gp(x) \n",
    "\n",
    "x = 1 # Initial guess\n",
    "print(x)\n",
    "for i in range(5):\n",
    "    x = nf_g(x)\n",
    "    print(x)\n",
    "    "
   ]
  },
  {
   "cell_type": "code",
   "execution_count": null,
   "metadata": {},
   "outputs": [],
   "source": []
  }
 ],
 "metadata": {
  "kernelspec": {
   "display_name": "Python 3",
   "language": "python",
   "name": "python3"
  },
  "language_info": {
   "codemirror_mode": {
    "name": "ipython",
    "version": 3
   },
   "file_extension": ".py",
   "mimetype": "text/x-python",
   "name": "python",
   "nbconvert_exporter": "python",
   "pygments_lexer": "ipython3",
   "version": "3.7.4"
  }
 },
 "nbformat": 4,
 "nbformat_minor": 2
}
